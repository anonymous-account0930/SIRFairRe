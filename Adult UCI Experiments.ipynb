{
 "cells": [
  {
   "cell_type": "markdown",
   "id": "1c4c1101-2542-43e3-bcd8-3b5db8560824",
   "metadata": {
    "tags": []
   },
   "source": [
    "# Load Packages"
   ]
  },
  {
   "cell_type": "markdown",
   "id": "80e63c21-7169-43cf-869d-5e8982ca34e4",
   "metadata": {},
   "source": [
    "## For running method"
   ]
  },
  {
   "cell_type": "code",
   "execution_count": 1,
   "id": "fafb0124-e52b-4b8d-a023-156acf6711ee",
   "metadata": {},
   "outputs": [],
   "source": [
    "import numpy as np\n",
    "from scipy.linalg import eigh, block_diag, pinv\n",
    "from scipy.linalg import eig\n",
    "import torch\n",
    "import pymanopt\n",
    "from pymanopt.manifolds import Product, Stiefel\n",
    "from pymanopt import Problem\n",
    "from pymanopt.optimizers import ConjugateGradient\n",
    "import autograd\n",
    "from scipy.linalg import qr\n",
    "from numpy.linalg import qr"
   ]
  },
  {
   "cell_type": "markdown",
   "id": "25692b7f-30bd-46bb-b90b-3df851d71bcc",
   "metadata": {},
   "source": [
    "## For loading data"
   ]
  },
  {
   "cell_type": "code",
   "execution_count": 2,
   "id": "d408e144-9d12-4be4-abc7-98249a5c4903",
   "metadata": {},
   "outputs": [],
   "source": [
    "from sklearn.neighbors import KNeighborsClassifier\n",
    "from sklearn.model_selection import RepeatedStratifiedKFold, cross_val_score\n",
    "from sklearn.metrics import accuracy_score\n",
    "import matplotlib.pyplot as plt\n",
    "from sklearn.decomposition import PCA\n",
    "from sklearn.preprocessing import StandardScaler\n",
    "from sklearn.svm import SVC\n",
    "from scipy.spatial.distance import cdist\n",
    "from scipy.spatial.distance import pdist, squareform"
   ]
  },
  {
   "cell_type": "markdown",
   "id": "fbb683ad-7f5e-46ce-bd74-4ef978900b88",
   "metadata": {},
   "source": [
    "## For Evaluation"
   ]
  },
  {
   "cell_type": "code",
   "execution_count": 3,
   "id": "6735e67a-9886-4fd4-a457-318de432b17a",
   "metadata": {},
   "outputs": [],
   "source": [
    "import pandas as pd\n",
    "from sklearn.model_selection import cross_val_score\n",
    "from sklearn.model_selection import StratifiedKFold\n",
    "from scipy.spatial.distance import cdist\n",
    "from scipy.spatial.distance import pdist, squareform\n",
    "from scipy.linalg import eigh, block_diag, pinv\n",
    "import torch\n",
    "import pymanopt\n",
    "from pymanopt.manifolds import Product, Stiefel\n",
    "from pymanopt import Problem\n",
    "from pymanopt.optimizers import ConjugateGradient\n",
    "import autograd\n",
    "from scipy.stats import ortho_group\n",
    "import matplotlib.pyplot as plt\n",
    "import seaborn as sns\n",
    "import os\n",
    "from joblib import Parallel, delayed\n",
    "from sklearn.metrics import silhouette_score\n",
    "from sklearn.linear_model import LogisticRegression\n",
    "import matplotlib.colors as mcolors\n",
    "from sklearn.metrics import accuracy_score, f1_score"
   ]
  },
  {
   "cell_type": "markdown",
   "id": "f95f7f3e-1fc8-468f-948f-9a5e794123c4",
   "metadata": {
    "tags": []
   },
   "source": [
    "# Functions"
   ]
  },
  {
   "cell_type": "markdown",
   "id": "b30e405d-43cf-4143-826c-901473772261",
   "metadata": {
    "tags": []
   },
   "source": [
    "## Methods"
   ]
  },
  {
   "cell_type": "code",
   "execution_count": 4,
   "id": "59faec5b-3a6b-42c7-8d9b-23e03e2cda60",
   "metadata": {},
   "outputs": [],
   "source": [
    "def method1(X, Y1, Y2, d1, a, l):\n",
    "    \"\"\"\n",
    "    Compute the desired matrices and eigenvectors as described in the prompt.\n",
    "\n",
    "    Parameters:\n",
    "        X (np.ndarray): Data matrix (n x p)\n",
    "        Y1 (np.ndarray): Binary response vector of length n\n",
    "        Y2 (np.ndarray): Binary response vector of length n\n",
    "        d1 (int): Number of eigenvalues/vectors for the first block\n",
    "        d2 (int): Number of eigenvalues/vectors for the second block\n",
    "        a (float): hyperparameter for contrastive term\n",
    "        l (float): hyperparameter for PCA term\n",
    "    Returns:\n",
    "        tuple: V1, V2 matrices corresponding to the extracted eigenvectors\n",
    "    \"\"\"\n",
    "    # Total number of eigenvalues/vectors to extract\n",
    "    d = d1\n",
    "    # Check dimensions\n",
    "    n, p = X.shape\n",
    "    assert len(Y1) == n and len(Y2) == n, \"Response vectors must have length n\"\n",
    "    assert d < p, \"d must be less than the number of features p\"\n",
    "    #assert a >= 0, \"contrastive hyperparameter must be nonnegative\"\n",
    "    #assert l >= 0, \"PCA hyperparameter must be nonnegative\"\n",
    "    \n",
    "    # Compute sample covariance of X\n",
    "    Sigma = np.cov(X, rowvar=False)\n",
    "    \n",
    "    epsilon = 1e-5  # Small positive value\n",
    "    Sigma_inv = np.linalg.inv(Sigma + epsilon * np.eye(Sigma.shape[0]))\n",
    "\n",
    "    def compute_sigma_1(X, Y):\n",
    "        \"\"\"Compute Sigma_1 (or Sigma_2) as described.\"\"\"\n",
    "        p_1 = np.mean(Y)  # Proportion of slice Y = 1\n",
    "        m_1 = np.mean(X[Y == 1], axis=0)  # Mean for Y = 1\n",
    "        m_0 = np.mean(X[Y == 0], axis=0)  # Mean for Y = 0\n",
    "        \n",
    "        # Compute Sigma_1\n",
    "        Sigma_1 = p_1 * np.outer(m_1, m_1) + (1 - p_1) * np.outer(m_0, m_0)\n",
    "        return Sigma_1\n",
    "\n",
    "    # Compute Sigma_1, Sigma_2, and Sigma_12\n",
    "    Sigma_1 = compute_sigma_1(X, Y1)\n",
    "    Sigma_2 = compute_sigma_1(X, Y2)\n",
    "    \n",
    "    # Compute A_1, A_2, A_12\n",
    "    A_1 = Sigma @ Sigma_1 @ Sigma\n",
    "    A_2 = Sigma @ Sigma_2 @ Sigma\n",
    "    \n",
    "    # Compute matrix to find top eigenvectors of\n",
    "    M1 = Sigma_inv @ (a * A_1 - A_2) @ Sigma_inv + l * Sigma_inv\n",
    "    M2 = Sigma_inv @ Sigma_inv\n",
    "    \n",
    "    M1 = (M1 + M1.T)/2\n",
    "    M2 = (M2 + M2.T)/2\n",
    "    \n",
    "    #print(\"Symmetry check for M1:\", np.allclose(M1, M1.T))\n",
    "    #print(\"Symmetry check for M2:\", np.allclose(M2, M2.T))\n",
    "\n",
    "    \n",
    "    #M2_cond_number = np.linalg.cond(M2)\n",
    "    #print(\"M2 condition number = \", end=\"\")\n",
    "    #print(M2_cond_number)\n",
    "    \n",
    "    # Compute eigenvalues and eigenvectors\n",
    "    eigenvalues, eigenvectors = eig(M1, M2)\n",
    "    \n",
    "    # Coerce eigenvalues and eigenvectors to real values\n",
    "    eigenvalues = np.real(eigenvalues)\n",
    "    eigenvectors = np.real(eigenvectors)\n",
    "    \n",
    "    # Sort eigenvalues and eigenvectors in descending order\n",
    "    sorted_indices = np.argsort(eigenvalues)[::-1]\n",
    "    eigenvalues = eigenvalues[sorted_indices]\n",
    "    eigenvectors = eigenvectors[:, sorted_indices]\n",
    "    \n",
    "    #print(\"all eigenvalues = \", end=\"\")\n",
    "    #print(eigenvalues)\n",
    "    \n",
    "    # Select the top eigenvectors (e.g., top d1 eigenvectors)\n",
    "    top_eigenvalues = eigenvalues[:d1]\n",
    "    top_eigenvectors = eigenvectors[:, :d1]\n",
    "    \n",
    "    #print(\"top eigenvalues = \", end=\"\")\n",
    "    #print(top_eigenvalues)\n",
    "    \n",
    "    #print(\"pct var = \", end=\"\")\n",
    "    #print(sum(top_eigenvalues) / sum(eigenvalues) * 100)\n",
    "    \n",
    "    # Rotate back\n",
    "    V = Sigma_inv @ top_eigenvectors\n",
    "    \n",
    "    # Perform QR decomposition to orthogonalize V\n",
    "    Q, R = np.linalg.qr(V)\n",
    "    \n",
    "    return np.real(Q)"
   ]
  },
  {
   "cell_type": "code",
   "execution_count": 5,
   "id": "a1784436-3447-4c46-8063-28f139d6db77",
   "metadata": {},
   "outputs": [],
   "source": [
    "def method2(X, Y1, Y2, d1, d2, e, a, b, c, l):\n",
    "    \"\"\"\n",
    "    Compute the desired matrices and eigenvectors as described in the prompt.\n",
    "\n",
    "    Parameters:\n",
    "        X (np.ndarray): Data matrix (n x p)\n",
    "        Y1 (np.ndarray): Binary response vector of length n\n",
    "        Y2 (np.ndarray): Binary response vector of length n\n",
    "        d1 (int): Number of eigenvalues/vectors for the first block\n",
    "        d2 (int): Number of eigenvalues/vectors for the second block\n",
    "        a (float): hyperparameter for contrastive term (alpha)\n",
    "        b (float): hyperparameter for V2 (beta)\n",
    "        c (float): hyperparameter for V2 contrastive term (gamma)\n",
    "        l (float): hyperparameter for PCA term (lambda)\n",
    "    Returns:\n",
    "        tuple: V1, V2 matrices corresponding to the extracted eigenvectors\n",
    "    \"\"\"\n",
    "    # Total number of eigenvalues/vectors to extract\n",
    "    d = d1 + d2\n",
    "    # Check dimensions\n",
    "    n, p = X.shape\n",
    "    assert len(Y1) == n and len(Y2) == n, \"Response vectors must have length n\"\n",
    "    assert d < p, \"d must be less than the number of features p\"\n",
    "    assert a >= 0, \"contrastive hyperparameter must be nonnegative\"\n",
    "    assert b >= 0, \"hyperparameter for V2 must be nonnegative\"\n",
    "    assert c >= 0, \"hyperparameter for V2 contrastive term must be nonnegative\"\n",
    "    assert l >= 0, \"PCA hyperparameter must be nonnegative\"\n",
    "    assert e >= 0, \"first hyperparameter must be nonnegative\"\n",
    "    assert max(a, b, c, l, e) >= 0, \"at least one hyperparameter must be positive\"\n",
    "    \n",
    "    # Compute sample covariance of X\n",
    "    Sigma = np.cov(X, rowvar=False)\n",
    "    #Sigma_inv = np.linalg.inv(Sigma)\n",
    "    B = Sigma @ Sigma\n",
    "\n",
    "    def compute_sigma_1(X, Y):\n",
    "        \"\"\"Compute Sigma_1 (or Sigma_2) as described.\"\"\"\n",
    "        p_1 = np.mean(Y)  # Proportion of slice Y = 1\n",
    "        m_1 = np.mean(X[Y == 1], axis=0)  # Mean for Y = 1\n",
    "        m_0 = np.mean(X[Y == 0], axis=0)  # Mean for Y = 0\n",
    "        \n",
    "        # Compute Sigma_1\n",
    "        Sigma_1 = p_1 * np.outer(m_1, m_1) + (1 - p_1) * np.outer(m_0, m_0)\n",
    "        return Sigma_1\n",
    "\n",
    "    # Compute Sigma_1, Sigma_2, and Sigma_12\n",
    "    Sigma_1 = compute_sigma_1(X, Y1)\n",
    "    Sigma_2 = compute_sigma_1(X, Y2)\n",
    "    \n",
    "    # Compute A_1, A_2, A_12\n",
    "    A_1 = Sigma @ Sigma_1 @ Sigma\n",
    "    A_2 = Sigma @ Sigma_2 @ Sigma\n",
    "    \n",
    "    # V1\n",
    "    # Compute matrix to find top eigenvectors of\n",
    "    M1 = Sigma @ (A_1 - a * A_2) @ Sigma\n",
    "    \n",
    "    # Compute eigenvalues and eigenvectors\n",
    "    eigenvalues, eigenvectors1 = np.linalg.eig(M1)\n",
    "    \n",
    "    # Sort eigenvalues and eigenvectors in descending order\n",
    "    sorted_indices = np.argsort(eigenvalues)[::-1]\n",
    "    eigenvalues = eigenvalues[sorted_indices]\n",
    "    eigenvectors1 = eigenvectors1[:, sorted_indices]\n",
    "    \n",
    "    # Select the top eigenvectors (e.g., top d1 eigenvectors)\n",
    "    top_eigenvectors1 = eigenvectors1[:, :d1]\n",
    "    \n",
    "    # Rotate back\n",
    "    V1 = np.linalg.solve(Sigma, top_eigenvectors1)\n",
    "    \n",
    "    # Perform QR decomposition to orthogonalize V\n",
    "    Q1, R = np.linalg.qr(V1)\n",
    "    \n",
    "    \n",
    "    # V2\n",
    "    # Compute matrix to find top eigenvectors of\n",
    "    M2 = Sigma @ (c * A_2 - b * A_1) @ Sigma\n",
    "    \n",
    "    # Compute eigenvalues and eigenvectors\n",
    "    eigenvalues, eigenvectors2 = np.linalg.eig(M2)\n",
    "    \n",
    "    # Sort eigenvalues and eigenvectors in descending order\n",
    "    sorted_indices = np.argsort(eigenvalues)[::-1]\n",
    "    eigenvalues = eigenvalues[sorted_indices]\n",
    "    eigenvectors2 = eigenvectors2[:, sorted_indices]\n",
    "    \n",
    "    # Select the top eigenvectors (e.g., top d1 eigenvectors)\n",
    "    top_eigenvectors2 = eigenvectors2[:, :d1]\n",
    "    \n",
    "    # Rotate back\n",
    "    V2 = np.linalg.solve(Sigma, top_eigenvectors2)\n",
    "    \n",
    "    # Perform QR decomposition to orthogonalize V\n",
    "    Q2, R = np.linalg.qr(V2)\n",
    "    \n",
    "    if l == 0:\n",
    "        return np.real(Q1), np.real(Q2)\n",
    "    \n",
    "    else:\n",
    "        \n",
    "        # Convert necessary matrices to PyTorch tensors\n",
    "        Sigma_cubed = torch.tensor(Sigma @ B, dtype=torch.float64)\n",
    "        A_1_torch = torch.tensor(A_1, dtype=torch.float64)\n",
    "        A_2_torch = torch.tensor(A_2, dtype=torch.float64)\n",
    "        B_torch = torch.tensor(B, dtype=torch.float64)\n",
    "        \n",
    "        # Define the product manifold\n",
    "        manifold = pymanopt.manifolds.Product([\n",
    "            pymanopt.manifolds.Stiefel(p, d1),\n",
    "            pymanopt.manifolds.Stiefel(p, d2)\n",
    "        ])\n",
    "\n",
    "        \n",
    "        @pymanopt.function.pytorch(manifold)\n",
    "        def cost(V_1, V_2):\n",
    "            V_combined = torch.cat([V_1, V_2], dim=1)\n",
    "            part1 = -torch.trace(V_1.T @ A_1_torch @ V_1)\n",
    "            part2 = -torch.trace(V_2.T @ A_2_torch @ V_2)\n",
    "            VDV = V_combined.T @ B_torch @ V_combined\n",
    "            VDV_inv = torch.linalg.pinv(VDV)\n",
    "            part3 = -l * torch.trace(V_combined.T @ Sigma_cubed @ V_combined @ VDV_inv)\n",
    "            return part1 + part2 + part3\n",
    "\n",
    "        # Create the optimization problem\n",
    "        problem = Problem(manifold=manifold, cost=cost)\n",
    "\n",
    "        # Use a conjugate gradient optimizer\n",
    "        optimizer = ConjugateGradient()\n",
    "        result = optimizer.run(problem)\n",
    "\n",
    "        # Extract optimized V_1 and V_2\n",
    "        V_1_opt, V_2_opt = result.point\n",
    "        \n",
    "        # Rotate back\n",
    "        V1 = np.linalg.solve(Sigma, V_1_opt)\n",
    "        V2 = np.linalg.solve(Sigma, V_2_opt)\n",
    "        \n",
    "        # Perform QR decomposition to orthogonalize V\n",
    "        Q1, R = np.linalg.qr(V1)\n",
    "        Q2, R = np.linalg.qr(V2)\n",
    "        \n",
    "        return Q1, Q2"
   ]
  },
  {
   "cell_type": "code",
   "execution_count": 6,
   "id": "2daa3991-52fe-42d2-bc1b-44727b87349c",
   "metadata": {},
   "outputs": [],
   "source": [
    "def fairPCA(X, Y, d, m):\n",
    "    assert(m >= 1)\n",
    "    \n",
    "    # Compute the covariance matrix\n",
    "    Sigma = np.cov(X, rowvar=False)\n",
    "    \n",
    "    # Split the data into two groups based on Y\n",
    "    X0 = X[Y == 0]\n",
    "    X1 = X[Y == 1]\n",
    "    \n",
    "    # Compute mean vectors\n",
    "    mu0 = np.mean(X0, axis=0)\n",
    "    mu1 = np.mean(X1, axis=0)\n",
    "    \n",
    "    # Compute covariance matrices\n",
    "    Sigma0 = np.cov(X0, rowvar=False)\n",
    "    Sigma1 = np.cov(X1, rowvar=False)\n",
    "    \n",
    "    # Compute the second moment difference\n",
    "    S = Sigma1 + np.outer(mu1, mu1) - Sigma0 - np.outer(mu0, mu0)\n",
    "    \n",
    "    # Compute eigenvalues and eigenvectors of Sigma_diff\n",
    "    eigvals, eigvecs = np.linalg.eigh(S)\n",
    "    \n",
    "    # Sort eigenvectors by absolute eigenvalues in descending order\n",
    "    sorted_indices = np.argsort(-np.abs(eigvals))\n",
    "    top_m_eigvecs = eigvecs[:, sorted_indices[:m]]\n",
    "    \n",
    "    # Include mu0 - mu1 in the subspace\n",
    "    #mu_diff = (mu0 - mu1).reshape(-1, 1)\n",
    "    #combined_basis = np.hstack([top_m_eigvecs, mu_diff])\n",
    "    \n",
    "    # Perform QR decomposition to obtain an orthonormal basis\n",
    "    Q, _ = np.linalg.qr(top_m_eigvecs, mode='reduced')\n",
    "    I = np.eye(X.shape[1])  # Identity matrix of size p x p\n",
    "    Pi = I - Q @ Q.T  # Project onto orthogonal complement\n",
    "    \n",
    "    # Compute Pi Sigma Pi\n",
    "    transformed_Sigma = Pi @ Sigma @ Pi\n",
    "    \n",
    "    # Compute the top d eigenvectors of Pi Sigma Pi\n",
    "    eigvals_final, eigvecs_final = np.linalg.eigh(transformed_Sigma)\n",
    "    sorted_indices_final = np.argsort(-eigvals_final)\n",
    "    top_d_eigvecs = eigvecs_final[:, sorted_indices_final[:d]]\n",
    "    \n",
    "    return top_d_eigvecs"
   ]
  },
  {
   "cell_type": "code",
   "execution_count": 7,
   "id": "c43baaec-ee3c-4c93-848c-db4f1bc7d353",
   "metadata": {},
   "outputs": [],
   "source": [
    "def SIR(X, Y, d):\n",
    "    # Compute sample covariance of X\n",
    "    Sigma = np.cov(X, rowvar=False)\n",
    "    \n",
    "    epsilon = 1e-5  # Small positive value\n",
    "    Sigma_inv = np.linalg.inv(Sigma + epsilon * np.eye(Sigma.shape[0]))\n",
    "\n",
    "    def compute_sigma_1(X, Y):\n",
    "        \"\"\"Compute Sigma_1 (or Sigma_2) as described.\"\"\"\n",
    "        p_1 = np.mean(Y)  # Proportion of slice Y = 1\n",
    "        m_1 = np.mean(X[Y == 1], axis=0)  # Mean for Y = 1\n",
    "        m_0 = np.mean(X[Y == 0], axis=0)  # Mean for Y = 0\n",
    "        \n",
    "        # Compute Sigma_1\n",
    "        Sigma_1 = p_1 * np.outer(m_1, m_1) + (1 - p_1) * np.outer(m_0, m_0)\n",
    "        return Sigma_1\n",
    "\n",
    "    # Compute Sigma_1, Sigma_2, and Sigma_12\n",
    "    Sigma_1 = compute_sigma_1(X, Y)\n",
    "    \n",
    "    # Compute A_1, A_2, A_12\n",
    "    A_1 = Sigma @ Sigma_1 @ Sigma\n",
    "    \n",
    "    # Compute matrix to find top eigenvectors of\n",
    "    M = Sigma_inv @ A_1 @ Sigma_inv\n",
    "    \n",
    "    M = (M + M.T)/2\n",
    "\n",
    "    # Compute eigenvalues and eigenvectors\n",
    "    eigenvalues, eigenvectors = eig(M)\n",
    "    \n",
    "    # Coerce eigenvalues and eigenvectors to real values\n",
    "    eigenvalues = np.real(eigenvalues)\n",
    "    eigenvectors = np.real(eigenvectors)\n",
    "    \n",
    "    # Sort eigenvalues and eigenvectors in descending order\n",
    "    sorted_indices = np.argsort(eigenvalues)[::-1]\n",
    "    eigenvalues = eigenvalues[sorted_indices]\n",
    "    eigenvectors = eigenvectors[:, sorted_indices]\n",
    "    \n",
    "    # Select the top eigenvectors (e.g., top d1 eigenvectors)\n",
    "    top_eigenvalues = eigenvalues[:d]\n",
    "    top_eigenvectors = eigenvectors[:, :d]\n",
    "    \n",
    "    # Rotate back\n",
    "    V = Sigma_inv @ top_eigenvectors\n",
    "    \n",
    "    # Perform QR decomposition to orthogonalize V\n",
    "    Q, R = np.linalg.qr(V)\n",
    "    \n",
    "    return np.real(Q)"
   ]
  },
  {
   "cell_type": "markdown",
   "id": "361d90f9-fbb2-4d02-9c34-084fd6b2c9b1",
   "metadata": {},
   "source": [
    "## Evaluation"
   ]
  },
  {
   "cell_type": "markdown",
   "id": "dd369429-4624-45cb-a060-b39f6ffa3db2",
   "metadata": {},
   "source": [
    "### Maximum Mean Discrepancy"
   ]
  },
  {
   "cell_type": "code",
   "execution_count": 8,
   "id": "c43a0360-0b28-4577-85ae-c409c308e277",
   "metadata": {},
   "outputs": [],
   "source": [
    "def mmd(X1, X2, sigma, batch_size=1000):\n",
    "    \"\"\"\n",
    "    Compute the Maximum Mean Discrepancy (MMD) between two datasets X1 and X2 with memory efficiency.\n",
    "    \"\"\"\n",
    "    def rbf_batch(X1, X2, sigma):\n",
    "        \"\"\"\n",
    "        Compute the Radial Basis Function (RBF) kernel between two datasets in batches.\n",
    "        \"\"\"\n",
    "        result = 0.0\n",
    "        for i in range(0, X1.shape[0], batch_size):\n",
    "            X1_batch = X1[i:i + batch_size]\n",
    "            distances = cdist(X1_batch, X2, 'sqeuclidean')\n",
    "            result += np.sum(np.exp(-distances / (2 * sigma**2)))\n",
    "        return result\n",
    "\n",
    "    m = X1.shape[0]\n",
    "    n = X2.shape[0]\n",
    "\n",
    "    # Term 1: Intra-set distances for X1\n",
    "    term1 = (1 / m**2) * rbf_batch(X1, X1, sigma)\n",
    "\n",
    "    # Term 2: Intra-set distances for X2\n",
    "    term2 = (1 / n**2) * rbf_batch(X2, X2, sigma)\n",
    "\n",
    "    # Term 3: Inter-set distances between X1 and X2\n",
    "    term3 = (2 / (m * n)) * rbf_batch(X1, X2, sigma)\n",
    "\n",
    "    d = term1 + term2 - term3\n",
    "    return d"
   ]
  },
  {
   "cell_type": "markdown",
   "id": "698208ed-7764-42fb-91f0-278272564a88",
   "metadata": {},
   "source": [
    "### Percent Variance"
   ]
  },
  {
   "cell_type": "code",
   "execution_count": 9,
   "id": "92678b31-ff1a-48a6-8af1-c2fb7b369125",
   "metadata": {},
   "outputs": [],
   "source": [
    "def pct_var(X, V):\n",
    "    \"\"\"\n",
    "    Compute the % of variance retained by the projection in the reduced dataset\n",
    "    \"\"\"\n",
    "    \n",
    "    # Compute sample covariance of X\n",
    "    Sigma = np.cov(X, rowvar=False)\n",
    "    \n",
    "    return 100 * np.trace(V.T @ Sigma @ V) / np.trace(Sigma) "
   ]
  },
  {
   "cell_type": "markdown",
   "id": "2036d0b6-0205-45d3-9ea3-e29690eb3602",
   "metadata": {},
   "source": [
    "### Percent Accuracy (for Y1)"
   ]
  },
  {
   "cell_type": "code",
   "execution_count": 10,
   "id": "35bd10f5-d169-46a4-a217-9f9d2883486c",
   "metadata": {},
   "outputs": [],
   "source": [
    "def compute_svm_metrics(X_reduced_data, Y1_labels, Y2_groups, kernel='rbf', C=1.0, gamma='scale', cv=5):\n",
    "    \"\"\"\n",
    "    Compute cross-validated Accuracy (%Acc), F1 score (%F1), and Demographic Parity difference (%∆DP) for a kernel SVM.\n",
    "    \n",
    "    Parameters:\n",
    "    - X_reduced_data: np.ndarray, the reduced data matrix (n_samples, n_features)\n",
    "    - Y1_labels: np.ndarray, the target labels (n_samples,)\n",
    "    - Y2_groups: np.ndarray, the demographic group labels (n_samples,)\n",
    "    - kernel: str, the kernel type to use for SVM ('linear', 'rbf', etc.)\n",
    "    - C: float, regularization parameter for SVM\n",
    "    - gamma: str or float, kernel coefficient for 'rbf', 'poly', and 'sigmoid'\n",
    "    - cv: int, the number of cross-validation folds\n",
    "\n",
    "    Returns:\n",
    "    - mean_acc, std_acc: Mean and standard deviation of accuracy (%Acc)\n",
    "    - mean_f1, std_f1: Mean and standard deviation of F1 score (%F1)\n",
    "    - mean_dp, std_dp: Mean and standard deviation of demographic parity difference (%∆DP)\n",
    "    \"\"\"\n",
    "    skf = StratifiedKFold(n_splits=cv, shuffle=True, random_state=42)\n",
    "    svm = SVC(kernel=kernel, C=C, gamma=gamma)\n",
    "    \n",
    "    acc_scores = []\n",
    "    f1_scores = []\n",
    "    dp_differences = []\n",
    "    \n",
    "    for train_index, test_index in skf.split(X_reduced_data, Y1_labels):\n",
    "        X_train, X_test = X_reduced_data[train_index], X_reduced_data[test_index]\n",
    "        y_train, y_test = Y1_labels[train_index], Y1_labels[test_index]\n",
    "        g_test = Y2_groups[test_index]\n",
    "        \n",
    "        svm.fit(X_train, y_train)\n",
    "        y_pred = svm.predict(X_test)\n",
    "        \n",
    "        # Compute Accuracy and F1 Score\n",
    "        acc_scores.append(accuracy_score(y_test, y_pred) * 100)\n",
    "        f1_scores.append(f1_score(y_test, y_pred) * 100)\n",
    "        \n",
    "        # Compute Demographic Parity difference\n",
    "        positive_rates = {}\n",
    "        for group in np.unique(g_test):\n",
    "            group_indices = np.where(g_test == group)[0]\n",
    "            positive_rate = np.mean(y_pred[group_indices] == 1)\n",
    "            positive_rates[group] = positive_rate\n",
    "        \n",
    "        group_rates = list(positive_rates.values())\n",
    "        if len(group_rates) == 2:  # Ensure binary groups\n",
    "            dp_difference = abs(group_rates[0] - group_rates[1])\n",
    "            dp_differences.append(dp_difference * 100)\n",
    "        \n",
    "    return (\n",
    "        np.mean(acc_scores), np.std(acc_scores),\n",
    "        np.mean(f1_scores), np.std(f1_scores),\n",
    "        np.mean(dp_differences), np.std(dp_differences)\n",
    "    )"
   ]
  },
  {
   "cell_type": "markdown",
   "id": "15e1ea67-f34e-41b0-b55e-06522b624b86",
   "metadata": {},
   "source": [
    "### Demographic Parity (predictive power of Y1 between the Y2 groups)"
   ]
  },
  {
   "cell_type": "code",
   "execution_count": 11,
   "id": "4fbb2d56-02e2-40b7-a6ee-6d3a46d3b5db",
   "metadata": {},
   "outputs": [],
   "source": [
    "def pct_delta_demographic_parity(X_reduced_data, Y1_labels, Y2_groups, kernel='rbf', C=1.0, gamma='scale', cv=5):\n",
    "    \"\"\"\n",
    "    Compute %∆DP (Demographic Parity) for a kernel SVM.\n",
    "\n",
    "    Parameters:\n",
    "    - X_reduced_data: np.ndarray, the reduced data matrix (n_samples, n_features)\n",
    "    - Y2_labels: np.ndarray, the target labels (n_samples,)\n",
    "    - groups: np.ndarray, the demographic group labels (n_samples,)\n",
    "    - kernel: str, the kernel type to use for SVM ('linear', 'rbf', etc.)\n",
    "    - C: float, regularization parameter for SVM\n",
    "    - gamma: str or float, kernel coefficient for 'rbf', 'poly', and 'sigmoid'\n",
    "    - cv: int, the number of cross-validation folds\n",
    "\n",
    "    Returns:\n",
    "    - mean_dp: float, mean demographic parity (%∆DP) across folds\n",
    "    \"\"\"\n",
    "    skf = StratifiedKFold(n_splits=cv, shuffle=True, random_state=42)\n",
    "    svm = SVC(kernel=kernel, C=C, gamma=gamma)\n",
    "\n",
    "    dp_differences = []\n",
    "\n",
    "    for train_index, test_index in skf.split(X_reduced_data, Y1_labels):\n",
    "        X_train, X_test = X_reduced_data[train_index], X_reduced_data[test_index]\n",
    "        y_train, y_test = Y1_labels[train_index], Y1_labels[test_index]\n",
    "        g_test = Y2_groups[test_index]\n",
    "\n",
    "        svm.fit(X_train, y_train)\n",
    "        y_pred = svm.predict(X_test)\n",
    "\n",
    "        # Compute positive prediction rates per group\n",
    "        positive_rates = {}\n",
    "        for group in np.unique(g_test):\n",
    "            group_indices = np.where(g_test == group)[0]\n",
    "            positive_rate = np.mean(y_pred[group_indices] == 1)\n",
    "            positive_rates[group] = positive_rate\n",
    "\n",
    "        # Compute absolute differences between groups\n",
    "        group_rates = list(positive_rates.values())\n",
    "        dp_difference = abs(group_rates[0] - group_rates[1])  # Adjust for two-group assumption\n",
    "        dp_differences.append(dp_difference)\n",
    "\n",
    "    mean_dp = np.mean(dp_differences) * 100  # Convert to percentage\n",
    "    sd_dp = np.std(dp_differences) * 100 # Convert to percentage\n",
    "    return mean_dp, sd_dp"
   ]
  },
  {
   "cell_type": "code",
   "execution_count": 12,
   "id": "873a93e0-862a-4659-b8ac-2eb8d16abe23",
   "metadata": {},
   "outputs": [],
   "source": [
    "def pct_delta_demographic_parity_logistic(X_reduced_data, Y1_labels, Y2_groups, C=1.0, cv=5):\n",
    "    \"\"\"\n",
    "    Compute %∆DP (Demographic Parity) for a Logistic Regression classifier.\n",
    "\n",
    "    Parameters:\n",
    "    - X_reduced_data: np.ndarray, the reduced data matrix (n_samples, n_features)\n",
    "    - Y1_labels: np.ndarray, the target labels (n_samples,)\n",
    "    - Y2_groups: np.ndarray, the demographic group labels (n_samples,)\n",
    "    - C: float, regularization parameter for Logistic Regression (default 1.0)\n",
    "    - cv: int, the number of cross-validation folds (default 5)\n",
    "\n",
    "    Returns:\n",
    "    - mean_dp: float, mean demographic parity (%∆DP) across folds\n",
    "    - sd_dp: float, standard deviation of demographic parity across folds\n",
    "    \"\"\"\n",
    "    skf = StratifiedKFold(n_splits=cv, shuffle=True, random_state=42)\n",
    "    logistic_model = LogisticRegression(C=C, solver=\"liblinear\", random_state=42)  # Use liblinear for small datasets\n",
    "\n",
    "    dp_differences = []\n",
    "\n",
    "    for train_index, test_index in skf.split(X_reduced_data, Y1_labels):\n",
    "        X_train, X_test = X_reduced_data[train_index], X_reduced_data[test_index]\n",
    "        y_train, y_test = Y1_labels[train_index], Y1_labels[test_index]\n",
    "        g_test = Y2_groups[test_index]\n",
    "\n",
    "        logistic_model.fit(X_train, y_train)\n",
    "        y_pred = logistic_model.predict(X_test)\n",
    "\n",
    "        # Compute positive prediction rates per group\n",
    "        positive_rates = {}\n",
    "        for group in np.unique(g_test):\n",
    "            group_indices = np.where(g_test == group)[0]\n",
    "            positive_rate = np.mean(y_pred[group_indices] == 1)\n",
    "            positive_rates[group] = positive_rate\n",
    "\n",
    "        # Compute absolute differences between groups\n",
    "        group_rates = list(positive_rates.values())\n",
    "        dp_difference = abs(group_rates[0] - group_rates[1])  # Adjust for two-group assumption\n",
    "        dp_differences.append(dp_difference)\n",
    "\n",
    "    mean_dp = np.mean(dp_differences) * 100  # Convert to percentage\n",
    "    sd_dp = np.std(dp_differences) * 100  # Convert to percentage\n",
    "    return mean_dp, sd_dp\n"
   ]
  },
  {
   "cell_type": "markdown",
   "id": "d925dda2-2e0b-455e-84dc-86c86d32ec80",
   "metadata": {},
   "source": [
    "### Visualization"
   ]
  },
  {
   "cell_type": "code",
   "execution_count": 13,
   "id": "0b5134cd-e1bd-42af-8a75-dc7a3fa894f8",
   "metadata": {},
   "outputs": [],
   "source": [
    "def plot_reduced_X(X, V, W, method_name=\"DR\", W_name=\"Group\", group_level_0=\"Class 0\", group_level_1=\"Class 1\", caption=None):\n",
    "    \"\"\"\n",
    "    Projects X onto the factor loading matrix V and plots the reduced data, \n",
    "    colored by the binary variable W.\n",
    "\n",
    "    Parameters:\n",
    "    - X (np.ndarray): The original data matrix of shape (n, p).\n",
    "    - V (np.ndarray): The factor loading matrix of shape (p, 2).\n",
    "    - W (np.ndarray): A binary variable of shape (n,) used for coloring.\n",
    "    - method_name (str): Name of the dimension reduction method (e.g., \"SIRFairRe\").\n",
    "    - W_name (str): Name of the binary variable for labeling.\n",
    "    - group_level_0 (str): Label for group 0.\n",
    "    - group_level_1 (str): Label for group 1.\n",
    "    - caption (str, optional): Caption to display below the plot.\n",
    "\n",
    "    Returns:\n",
    "    - None (displays a scatter plot).\n",
    "    \"\"\"\n",
    "    # Compute the reduced representation (n x 2)\n",
    "    X_reduced = X @ V  # Matrix multiplication\n",
    "    cmap = mcolors.ListedColormap(['red', 'blue'])  # 0 → Red, 1 → Blue\n",
    "\n",
    "    # Create the scatter plot\n",
    "    plt.figure(figsize=(8, 6))\n",
    "    scatter = plt.scatter(X_reduced[:, 0], X_reduced[:, 1], c=W, cmap=cmap, edgecolors=\"k\", alpha=0.7)\n",
    "\n",
    "    # Create a custom legend\n",
    "    handles = [\n",
    "        plt.Line2D([0], [0], marker='o', color='w', markerfacecolor='red', markersize=8, label=group_level_0),\n",
    "        plt.Line2D([0], [0], marker='o', color='w', markerfacecolor='blue', markersize=8, label=group_level_1)\n",
    "    ]\n",
    "    plt.legend(handles=handles, title=W_name, fontsize=16)\n",
    "\n",
    "    # Label axes dynamically based on method name\n",
    "    plt.xlabel(f\"{method_name} 1\", fontsize=20)\n",
    "    plt.ylabel(f\"{method_name} 2\", fontsize=20)\n",
    "    plt.title(f\"{method_name} labeled by {W_name}\", fontsize=20)\n",
    "    plt.xticks(fontsize=16)\n",
    "    plt.yticks(fontsize=16)\n",
    "\n",
    "    # Add caption if provided\n",
    "    if caption:\n",
    "        plt.figtext(0.5, -0.05, caption, wrap=True, horizontalalignment='center', fontsize=20)\n",
    "\n",
    "    # Save the plot before displaying\n",
    "    filename = f\"ADULT_Reduced_Dim_{method_name.replace('%', '').replace(' ', '_')}_{W_name.replace(' ', '_')}.png\"\n",
    "    plt.savefig(filename, dpi=300, bbox_inches=\"tight\")\n",
    "\n",
    "    # Show the plot\n",
    "    plt.show()\n"
   ]
  },
  {
   "cell_type": "markdown",
   "id": "33cac273-6986-47e8-8ffc-c3ad5e329204",
   "metadata": {},
   "source": [
    "# Load Datasets"
   ]
  },
  {
   "cell_type": "markdown",
   "id": "a7e90f0f-f6e7-4197-84bc-0efa941416cf",
   "metadata": {},
   "source": [
    "## Adult UCI"
   ]
  },
  {
   "cell_type": "code",
   "execution_count": 14,
   "id": "865430f0-3004-4e5c-8b43-883e65a926fa",
   "metadata": {},
   "outputs": [],
   "source": [
    "# Load your dataset\n",
    "UCI_adult = pd.read_csv('full.csv')\n",
    "\n",
    "# Assuming the last two columns are sensitive attribute and target\n",
    "X = UCI_adult.iloc[:, :-2].values\n",
    "Y = UCI_adult.iloc[:, -2].values  # Target variable\n",
    "Z = UCI_adult.iloc[:, -1].values  # Sensitive attribute"
   ]
  },
  {
   "cell_type": "code",
   "execution_count": null,
   "id": "dc9dee9d-6626-4ef5-9d25-dcc45e7f6394",
   "metadata": {},
   "outputs": [],
   "source": [
    "np.unique(Y, return_counts = True)"
   ]
  },
  {
   "cell_type": "code",
   "execution_count": null,
   "id": "03dd9797-9385-4b5d-b4b8-440fc466ca8c",
   "metadata": {},
   "outputs": [],
   "source": [
    "np.unique(Z, return_counts = True)"
   ]
  },
  {
   "cell_type": "code",
   "execution_count": 17,
   "id": "aa4510a1-21cf-4379-8636-5c4235b12c8a",
   "metadata": {},
   "outputs": [],
   "source": [
    "# Standardize only the continuous features\n",
    "scaler = StandardScaler()\n",
    "X = scaler.fit_transform(X)"
   ]
  },
  {
   "cell_type": "code",
   "execution_count": null,
   "id": "4b1e3943-fe28-4ea8-b036-9a8c41e296e7",
   "metadata": {},
   "outputs": [],
   "source": [
    "# Assume X is your data matrix (n_samples x n_features)\n",
    "# Standardize X before computing PCA\n",
    "X_centered = X - np.mean(X, axis=0)  # Centering the data (zero mean)\n",
    "\n",
    "# Compute the covariance matrix\n",
    "cov_matrix = np.cov(X_centered, rowvar=False)\n",
    "\n",
    "# Compute eigenvalues (variances along principal components)\n",
    "eigenvalues, _ = np.linalg.eigh(cov_matrix)\n",
    "\n",
    "# Sort eigenvalues in descending order\n",
    "eigenvalues = np.sort(eigenvalues)[::-1]\n",
    "\n",
    "# Compute the explained variance ratio\n",
    "explained_variance_ratio = eigenvalues / np.sum(eigenvalues)\n",
    "\n",
    "# Cumulative variance\n",
    "cumulative_variance = np.cumsum(explained_variance_ratio)\n",
    "\n",
    "# Plot Scree Plot\n",
    "plt.figure(figsize=(8, 5))\n",
    "plt.plot(range(1, len(eigenvalues) + 1), explained_variance_ratio, marker='o', linestyle='--', label=\"Explained Variance\")\n",
    "plt.plot(range(1, len(eigenvalues) + 1), cumulative_variance, marker='s', linestyle='-', label=\"Cumulative Variance\")\n",
    "\n",
    "plt.xlabel(\"Number of Principal Components\")\n",
    "plt.ylabel(\"Variance Explained\")\n",
    "plt.title(\"Scree Plot\")\n",
    "plt.axhline(y=0.50, color='r', linestyle=\"--\", label=\"50% Variance Threshold\")  # Highlight 90% variance line\n",
    "plt.legend()\n",
    "plt.savefig(\"scree_plot_ADULT.png\", dpi=300)\n",
    "plt.grid()\n",
    "plt.show()"
   ]
  },
  {
   "cell_type": "code",
   "execution_count": null,
   "id": "b8938181-94b5-4040-8401-779a559359e3",
   "metadata": {},
   "outputs": [],
   "source": [
    "import numpy as np\n",
    "import matplotlib.pyplot as plt\n",
    "\n",
    "# Function to perform PCA and return eigenvalues\n",
    "def compute_eigenvalues(X):\n",
    "    X_centered = X - np.mean(X, axis=0)  # Centering the data\n",
    "    cov_matrix = np.cov(X_centered, rowvar=False)\n",
    "    eigenvalues, _ = np.linalg.eigh(cov_matrix)\n",
    "    return np.sort(eigenvalues)[::-1]  # Sort in descending order\n",
    "\n",
    "# Compute actual eigenvalues\n",
    "eigenvalues_real = compute_eigenvalues(X)\n",
    "\n",
    "# Permutation test parameters\n",
    "num_permutations = 100  # Number of shuffled datasets\n",
    "n_samples, n_features = X.shape\n",
    "permuted_eigenvalues = np.zeros((num_permutations, n_features))\n",
    "\n",
    "# Generate permuted datasets and compute eigenvalues\n",
    "for i in range(num_permutations):\n",
    "    X_permuted = np.copy(X)\n",
    "    for j in range(n_features):\n",
    "        np.random.shuffle(X_permuted[:, j])  # Shuffle each feature independently\n",
    "    permuted_eigenvalues[i, :] = compute_eigenvalues(X_permuted)\n",
    "\n",
    "# Compute 95th percentile of permuted eigenvalues (null distribution threshold)\n",
    "thresholds = np.percentile(permuted_eigenvalues, 95, axis=0)\n",
    "\n",
    "# Determine the number of dimensions d where real eigenvalues exceed the threshold\n",
    "d = np.sum(eigenvalues_real > thresholds)\n",
    "\n",
    "# Scree plot with threshold\n",
    "plt.figure(figsize=(8, 5))\n",
    "plt.plot(range(1, len(eigenvalues_real) + 1), eigenvalues_real, marker='o', linestyle='--', label=\"Real Data\")\n",
    "plt.plot(range(1, len(thresholds) + 1), thresholds, marker='x', linestyle='-', label=\"95% Permutation Threshold\")\n",
    "plt.xlabel(\"Number of Principal Components\")\n",
    "plt.ylabel(\"Eigenvalue\")\n",
    "plt.title(\"Scree Plot with Permutation Test Threshold\")\n",
    "plt.legend()\n",
    "plt.grid()\n",
    "\n",
    "# Save the plot\n",
    "plt.savefig(\"scree_plot_permutation.png\", dpi=300)\n",
    "plt.show()\n",
    "\n",
    "print(f\"Estimated dimension (d) based on permutation test: {d}\")"
   ]
  },
  {
   "cell_type": "code",
   "execution_count": null,
   "id": "980d7509-c602-491b-84f4-ccb02686153a",
   "metadata": {},
   "outputs": [],
   "source": [
    "d"
   ]
  },
  {
   "cell_type": "code",
   "execution_count": null,
   "id": "ac221967-406b-455a-8075-d07b748f83fc",
   "metadata": {},
   "outputs": [],
   "source": [
    "X.shape"
   ]
  },
  {
   "cell_type": "code",
   "execution_count": 22,
   "id": "2c333ac5-b214-4428-8623-4a6e6fef8075",
   "metadata": {},
   "outputs": [],
   "source": [
    "X0 = X[Z== 0]  # Rows where Z == 0\n",
    "X1 = X[Z == 1]  # Rows where Z == 1"
   ]
  },
  {
   "cell_type": "code",
   "execution_count": null,
   "id": "35e61d8c-7af3-489f-951d-445e679cd02f",
   "metadata": {},
   "outputs": [],
   "source": [
    "UCI_adult.shape"
   ]
  },
  {
   "cell_type": "markdown",
   "id": "036d5f65-0371-447b-8946-2929a2ff4209",
   "metadata": {},
   "source": [
    "### Preprocessing so that X0 and X1 are separately centered"
   ]
  },
  {
   "cell_type": "code",
   "execution_count": 24,
   "id": "48d4d89f-c6ff-46c7-9cd2-8479726cd58b",
   "metadata": {},
   "outputs": [],
   "source": [
    "# Split X based on S\n",
    "X_0, X_1 = X[Z == 0], X[Z == 1]\n",
    "    \n",
    "# Compute group-wise means\n",
    "mu_0, mu_1 = X_0.mean(axis=0), X_1.mean(axis=0)\n",
    "    \n",
    "# Center each group separately\n",
    "X_0_centered = X_0 - mu_0\n",
    "X_1_centered = X_1 - mu_1\n",
    "\n",
    "# Reassemble into original order\n",
    "X_centered = np.empty_like(X)\n",
    "X_centered[Z == 0] = X_0_centered\n",
    "X_centered[Z == 1] = X_1_centered"
   ]
  },
  {
   "cell_type": "code",
   "execution_count": null,
   "id": "011799bf-00bb-4edc-8b1c-35ee1a7a6e5b",
   "metadata": {},
   "outputs": [],
   "source": [
    "# Assume X is your data matrix (n_samples x n_features)\n",
    "# Standardize X before computing PCA\n",
    "X_centered = X - np.mean(X, axis=0)  # Centering the data (zero mean)\n",
    "\n",
    "# Compute the covariance matrix\n",
    "cov_matrix = np.cov(X_centered, rowvar=False)\n",
    "\n",
    "# Compute eigenvalues (variances along principal components)\n",
    "eigenvalues, _ = np.linalg.eigh(cov_matrix)\n",
    "\n",
    "# Sort eigenvalues in descending order\n",
    "eigenvalues = np.sort(eigenvalues)[::-1]\n",
    "\n",
    "# Compute the explained variance ratio\n",
    "explained_variance_ratio = eigenvalues / np.sum(eigenvalues)\n",
    "\n",
    "# Cumulative variance\n",
    "cumulative_variance = np.cumsum(explained_variance_ratio)\n",
    "\n",
    "# Plot Scree Plot\n",
    "plt.figure(figsize=(8, 5))\n",
    "plt.plot(range(1, len(eigenvalues) + 1), explained_variance_ratio, marker='o', linestyle='--', label=\"Explained Variance\")\n",
    "plt.plot(range(1, len(eigenvalues) + 1), cumulative_variance, marker='s', linestyle='-', label=\"Cumulative Variance\")\n",
    "\n",
    "plt.xlabel(\"Number of Principal Components\")\n",
    "plt.ylabel(\"Variance Explained\")\n",
    "plt.title(\"Scree Plot\")\n",
    "plt.axhline(y=0.50, color='r', linestyle=\"--\", label=\"50% Variance Threshold\")  # Highlight 90% variance line\n",
    "plt.legend()\n",
    "plt.grid()\n",
    "plt.show()\n"
   ]
  },
  {
   "cell_type": "markdown",
   "id": "4cf21584-7ad6-4ecf-b867-217770f9c82d",
   "metadata": {},
   "source": [
    "# Parameter Settings"
   ]
  },
  {
   "cell_type": "code",
   "execution_count": 26,
   "id": "449eba07-779e-4f5c-b3f7-e634440dd2ef",
   "metadata": {},
   "outputs": [],
   "source": [
    "x_values = [-0.5, -0.25, 0, 0.25, 0.5, 1]\n",
    "y_values = [0, 0.5, 1, 5, 10]\n",
    "\n",
    "parameters_list = [[x, y] for x in x_values for y in y_values]"
   ]
  },
  {
   "cell_type": "code",
   "execution_count": null,
   "id": "9772ba39-ae53-4b62-b985-38e371bc00fd",
   "metadata": {},
   "outputs": [],
   "source": [
    "parameters_list"
   ]
  },
  {
   "cell_type": "code",
   "execution_count": null,
   "id": "14615ae4-58dc-4c7e-8d6f-d32e9f11e22e",
   "metadata": {},
   "outputs": [],
   "source": [
    "parameters_list[3]"
   ]
  },
  {
   "cell_type": "markdown",
   "id": "fe7a8f26-fa4a-45ab-bccd-fc1f0608dff1",
   "metadata": {},
   "source": [
    "# Compute All Loadings of Interest"
   ]
  },
  {
   "cell_type": "markdown",
   "id": "27013002-b73e-4736-9f2a-5fb0dbf5af82",
   "metadata": {},
   "source": [
    "## Option 1"
   ]
  },
  {
   "cell_type": "code",
   "execution_count": 28,
   "id": "902a123c-4eca-48f1-936c-7ed3a810c480",
   "metadata": {},
   "outputs": [],
   "source": [
    "Vs = dict()"
   ]
  },
  {
   "cell_type": "code",
   "execution_count": 29,
   "id": "1e7c3ea0-27a8-4f14-b1f1-d20e9f4895d7",
   "metadata": {},
   "outputs": [],
   "source": [
    "for setting in parameters_list:\n",
    "    al = tuple(setting)\n",
    "    a, l, = al\n",
    "    V = method1(X, Y, Z, 2, a, l)\n",
    "    Vs[al] = V"
   ]
  },
  {
   "cell_type": "code",
   "execution_count": null,
   "id": "9e6e8da4-18eb-4096-b442-18ba2375acb0",
   "metadata": {},
   "outputs": [],
   "source": [
    "len(Vs)"
   ]
  },
  {
   "cell_type": "markdown",
   "id": "22606d50-0461-49fb-863b-bf8efc0c77f8",
   "metadata": {
    "tags": []
   },
   "source": [
    "## PCA"
   ]
  },
  {
   "cell_type": "code",
   "execution_count": 31,
   "id": "fcd79de5-e750-4446-9d1b-1aca741cd619",
   "metadata": {},
   "outputs": [],
   "source": [
    "Sigma = np.cov(X, rowvar=False)"
   ]
  },
  {
   "cell_type": "code",
   "execution_count": 32,
   "id": "0f1df22e-ff8f-470f-9526-7afe324e53b1",
   "metadata": {},
   "outputs": [],
   "source": [
    "eigenvalues, eigenvectors = eigh(Sigma)"
   ]
  },
  {
   "cell_type": "code",
   "execution_count": 33,
   "id": "370fba73-319f-4574-89b0-a8a7c8497dea",
   "metadata": {},
   "outputs": [],
   "source": [
    "V_PCA = eigenvectors[:, -2:]"
   ]
  },
  {
   "cell_type": "markdown",
   "id": "fd73082e-b772-4c9d-8824-1862ea09769e",
   "metadata": {
    "tags": []
   },
   "source": [
    "## SIR(Y1)"
   ]
  },
  {
   "cell_type": "code",
   "execution_count": 34,
   "id": "0d85f3b9-7844-4dc4-a6e3-11efe1e98724",
   "metadata": {},
   "outputs": [],
   "source": [
    "V_SIRY1 = SIR(X, Y, 2)"
   ]
  },
  {
   "cell_type": "markdown",
   "id": "dafea7c7-ca60-4a7e-be37-fb8b3fdebc49",
   "metadata": {
    "tags": []
   },
   "source": [
    "## -SIR(Y2)"
   ]
  },
  {
   "cell_type": "code",
   "execution_count": 35,
   "id": "0f97a695-4f81-498b-8ed1-ec79070ef900",
   "metadata": {},
   "outputs": [],
   "source": [
    "V_negSIRY2 = method1(X, Y, Z, 2, 0, 0)"
   ]
  },
  {
   "cell_type": "markdown",
   "id": "3057c2c7-1666-45fb-889c-fc7174e147a3",
   "metadata": {},
   "source": [
    "## FairPCA"
   ]
  },
  {
   "cell_type": "code",
   "execution_count": 36,
   "id": "04bea5f1-f197-4c25-9b43-efe360cad79a",
   "metadata": {},
   "outputs": [],
   "source": [
    "Vs_fair = dict()"
   ]
  },
  {
   "cell_type": "code",
   "execution_count": 37,
   "id": "9fa181a2-a854-4687-91db-eb9815dfe1e0",
   "metadata": {},
   "outputs": [],
   "source": [
    "ms = [1, 15, 50]"
   ]
  },
  {
   "cell_type": "code",
   "execution_count": 38,
   "id": "3acb33c2-bf4a-4e5c-aed5-df6ac145658d",
   "metadata": {},
   "outputs": [],
   "source": [
    "for m in ms:\n",
    "    V = fairPCA(X, Z, 2, m)\n",
    "    Vs_fair[m] = V"
   ]
  },
  {
   "cell_type": "code",
   "execution_count": null,
   "id": "1b2d902f-50ac-4802-9e70-3ef3e817523a",
   "metadata": {},
   "outputs": [],
   "source": [
    "len(ms)"
   ]
  },
  {
   "cell_type": "markdown",
   "id": "0a09951d-1e53-4ca0-8aba-41a082610ae8",
   "metadata": {
    "tags": []
   },
   "source": [
    "# Perform Data Splits"
   ]
  },
  {
   "cell_type": "code",
   "execution_count": 40,
   "id": "34a8025d-78a0-4f45-a799-d2590b4f0d0f",
   "metadata": {},
   "outputs": [],
   "source": [
    "def get_splits(X, Y1_labels, cv=5, random_state=42):\n",
    "    \"\"\"Precompute and store cross-validation splits.\"\"\"\n",
    "    skf = StratifiedKFold(n_splits=cv, shuffle=True, random_state=random_state)\n",
    "    splits = [(train_idx, test_idx) for train_idx, test_idx in skf.split(X, Y1_labels)]\n",
    "    return splits"
   ]
  },
  {
   "cell_type": "code",
   "execution_count": 41,
   "id": "e5e55353-f4c9-446c-9427-db6706d4a039",
   "metadata": {},
   "outputs": [],
   "source": [
    "def compute_sigma(X_reduced, sample_frac=0.1):\n",
    "    \"\"\"Compute sigma efficiently using a subset of the data.\"\"\"\n",
    "    n_samples = max(10, int(sample_frac * X_reduced.shape[0]))  # At least 10 samples\n",
    "    X_sample = X_reduced[np.random.choice(X_reduced.shape[0], n_samples, replace=False)]\n",
    "    pairwise_sq_distances = pdist(X_sample, 'sqeuclidean')\n",
    "    return np.sqrt(np.median(pairwise_sq_distances) / 2)"
   ]
  },
  {
   "cell_type": "code",
   "execution_count": 42,
   "id": "1162c28d-2281-4f2d-8d7e-44ea42c281f8",
   "metadata": {},
   "outputs": [],
   "source": [
    "# Define process_factor_loading globally and explicitly pass parameters\n",
    "def process_factor_loading(V, i, X, Y1_labels, Y2_groups, sample_frac, kernel, C, gamma, cv, splits):\n",
    "    \"\"\"Compute all metrics for a given factor loading.\"\"\"\n",
    "    print(f\"Processing factor loading {i}\")\n",
    "    \n",
    "    X_reduced = X @ V  # Project data\n",
    "\n",
    "    # Compute MMD sigma\n",
    "    sigma = compute_sigma(X_reduced, sample_frac=sample_frac)\n",
    "\n",
    "    # Compute metrics\n",
    "    mmd_score = mmd(X_reduced[Y1_labels == 0], X_reduced[Y1_labels == 1], sigma)\n",
    "    var_pct = pct_var(X, V)\n",
    "\n",
    "    # Compute accuracy and demographic parity\n",
    "    acc_mean, acc_std, f1_mean, f1_std, dp_mean, dp_std = compute_svm_metrics(X_reduced, Y1_labels, Y2_groups, kernel='rbf', C=1.0, gamma='scale', cv=5)\n",
    "    #acc_mean, acc_std = pct_accuracy(X_reduced, Y1_labels, kernel=kernel, C=C, gamma=gamma, cv=cv)\n",
    "    #dp_mean, dp_std = pct_delta_demographic_parity(X_reduced, Y1_labels, Y2_groups, kernel=kernel, C=C, gamma=gamma, cv=cv)\n",
    "    #dp_mean_logistic, dp_std_logistic = pct_delta_demographic_parity_logistic(X_reduced, Y1_labels, Y2_groups, C=C, cv=cv)\n",
    "\n",
    "    # Store results\n",
    "    return {\n",
    "        'Factor_Loading_Index': i,\n",
    "        'MMD': mmd_score,\n",
    "        '% Variance': var_pct,\n",
    "        '% Accuracy Mean': acc_mean,\n",
    "        '% Accuracy Std': acc_std,\n",
    "        'F1 Mean': f1_mean,\n",
    "        'F1 Std': f1_std,\n",
    "        '% Delta DP Mean': dp_mean,\n",
    "        '% Delta DP Std': dp_std\n",
    "        #'% Delta DP Mean Logistic': dp_mean_logistic,\n",
    "        #'% Delta DP Std Logistic': dp_std_logistic\n",
    "    }\n",
    "\n",
    "# Modify run_simulation to explicitly pass all arguments\n",
    "def run_simulation(X, Y1_labels, Y2_groups, factor_loadings, cv=5, sample_frac=0.1, kernel='rbf', C=1.0, gamma='scale'):\n",
    "    \"\"\"\n",
    "    Runs the simulation for all factor loadings and stores results in a DataFrame.\n",
    "    \"\"\"\n",
    "    splits = get_splits(X, Y1_labels, cv=cv)  # Precompute cross-validation splits\n",
    "\n",
    "    # Use joblib to parallelize across factor loadings\n",
    "    results = Parallel(n_jobs=-1, verbose=10)(\n",
    "        delayed(process_factor_loading)(V, i, X, Y1_labels, Y2_groups, sample_frac, kernel, C, gamma, cv, splits) \n",
    "        for i, V in enumerate(factor_loadings)\n",
    "    )\n",
    "\n",
    "    # Convert results to DataFrame\n",
    "    results_df = pd.DataFrame(results)\n",
    "    return results_df"
   ]
  },
  {
   "cell_type": "code",
   "execution_count": null,
   "id": "0de2c3d6-31e0-4bbe-a914-7cfcfdd0a613",
   "metadata": {},
   "outputs": [],
   "source": [
    "factor_loadings = list(Vs.values()) + list(Vs_fair.values())\n",
    "factor_loadings.append(V_PCA)\n",
    "factor_loadings.append(V_SIRY1)\n",
    "factor_loadings.append(V_negSIRY2)"
   ]
  },
  {
   "cell_type": "code",
   "execution_count": 44,
   "id": "5eb6aed6-4688-4c25-8e2b-0bf25e65f27a",
   "metadata": {},
   "outputs": [],
   "source": [
    "sample_frac = 0.1\n",
    "C = 1\n",
    "gamma = \"scale\"\n",
    "kernel = \"linear\"\n",
    "cv = 5\n",
    "splits = get_splits(X, Y, cv=cv)"
   ]
  },
  {
   "cell_type": "code",
   "execution_count": null,
   "id": "76b6d359-de23-48de-87fd-d792f52ecd6e",
   "metadata": {},
   "outputs": [],
   "source": [
    "from tqdm import tqdm\n",
    "from joblib import Parallel, delayed\n",
    "\n",
    "# Wrap `enumerate(factor_loadings)` with `list()` so `tqdm` can track progress\n",
    "results = Parallel(n_jobs=-1, verbose=10)(\n",
    "    delayed(process_factor_loading)(V, i, X, Y, Z, sample_frac, kernel, C, gamma, cv, splits) \n",
    "    for i, V in tqdm(list(enumerate(factor_loadings)), total=len(factor_loadings))\n",
    ")\n",
    "\n",
    "# Convert list of results to a DataFrame\n",
    "results_df = pd.DataFrame(results)\n",
    "\n",
    "# Save as a tab-separated text file\n",
    "results_df.to_csv(\"simulation_results.txt\", sep=\"\\t\", index=False)"
   ]
  },
  {
   "cell_type": "code",
   "execution_count": 14,
   "id": "2fa64deb-e0d5-4901-9d07-e62184a02211",
   "metadata": {},
   "outputs": [],
   "source": [
    "# Load the results from the saved file\n",
    "results_df = pd.read_csv(\"simulation_results.txt\", sep=\"\\t\")"
   ]
  },
  {
   "cell_type": "code",
   "execution_count": null,
   "id": "a7b7807c-9d77-4e6f-8366-7702ee112161",
   "metadata": {},
   "outputs": [],
   "source": [
    "import time\n",
    "\n",
    "# Track start time\n",
    "start_time = time.time()\n",
    "\n",
    "# Train a linear SVM on the full dataset using parallel cross-validation\n",
    "clf = SVC(kernel=\"linear\", C=1, random_state=42)\n",
    "accuracy_scores = cross_val_score(clf, X, Y, cv=5, n_jobs=-1)  # Enables parallel execution\n",
    "\n",
    "# Compute mean and standard deviation of accuracy\n",
    "accuracy_mean = accuracy_scores.mean()\n",
    "accuracy_std = accuracy_scores.std()\n",
    "\n",
    "# Track end time\n",
    "end_time = time.time()\n",
    "\n",
    "print(f\"Prediction Accuracy on Full Dataset: {accuracy_mean:.4f} ± {accuracy_std:.4f}\")\n",
    "print(f\"Total Runtime: {end_time - start_time:.2f} seconds\")\n"
   ]
  },
  {
   "cell_type": "code",
   "execution_count": 15,
   "id": "578f8d32-29c9-465b-9cf8-cf45a1a627bc",
   "metadata": {},
   "outputs": [],
   "source": [
    "accuracy_mean = 0.8465"
   ]
  },
  {
   "cell_type": "markdown",
   "id": "d374f1ec-457b-4e9a-95a1-f33a16730730",
   "metadata": {},
   "source": [
    "# Highlighting Key Results from results_df"
   ]
  },
  {
   "cell_type": "code",
   "execution_count": null,
   "id": "77cccbaa-68cb-4b53-a23d-8b0facb57285",
   "metadata": {},
   "outputs": [],
   "source": [
    "import pandas as pd\n",
    "\n",
    "# Define the index ranges\n",
    "first_category = results_df.iloc[:30]\n",
    "\n",
    "# Function to get required rows\n",
    "def get_selected_rows(df):\n",
    "    rows = []\n",
    "    # 1. The one with minimum MMD\n",
    "    rows.append(df.loc[df['MMD'].idxmin()])\n",
    "\n",
    "    # 2. Of the ones with MMD < 0.01, the one with maximum % Variance\n",
    "    subset = df[df['MMD'] < 0.05]\n",
    "    if not subset.empty:\n",
    "        rows.append(subset.loc[subset['% Variance'].idxmax()])\n",
    "\n",
    "    # 3. Of the ones with MMD < 0.06, the one with maximum % Accuracy Mean\n",
    "    subset = df[df['MMD'] < 0.1]\n",
    "    if not subset.empty:\n",
    "        rows.append(subset.loc[subset['% Accuracy Mean'].idxmax()])\n",
    "\n",
    "    # 4. The one with maximum % Accuracy Mean\n",
    "    rows.append(df.loc[df['% Accuracy Mean'].idxmax()])\n",
    "\n",
    "    # 5. Of the ones with MMD < 0.06, the one with maximum F1 Mean\n",
    "    subset = df[df['MMD'] < 0.1]\n",
    "    if not subset.empty:\n",
    "        rows.append(subset.loc[subset['F1 Mean'].idxmax()])\n",
    "\n",
    "    # 6. Of the ones with % Delta DP Mean < 0.01, the one with maximum % Variance\n",
    "    subset = df[df['% Delta DP Mean'] < 0.01]\n",
    "    if not subset.empty:\n",
    "        rows.append(subset.loc[subset['% Variance'].idxmax()])\n",
    "\n",
    "    # 7. Of the ones with % Delta DP Mean < 1, the one with maximum % Variance\n",
    "    subset = df[df['% Delta DP Mean'] < 1]\n",
    "    if not subset.empty:\n",
    "        rows.append(subset.loc[subset['% Variance'].idxmax()])\n",
    "\n",
    "    return pd.DataFrame(rows)\n",
    "\n",
    "# Get selected rows for each category\n",
    "selected_first = get_selected_rows(first_category)\n",
    "\n",
    "# Select only the rows with indices 30, 31, and 32\n",
    "second_category = results_df.loc[[30, 31, 32]]\n",
    "\n",
    "# Combine results\n",
    "selected_rows = pd.concat([selected_first, second_category], ignore_index=True)\n",
    "\n",
    "round(selected_rows, 3)"
   ]
  },
  {
   "cell_type": "code",
   "execution_count": null,
   "id": "896a665d-0335-46bc-835b-7c1b360bffa9",
   "metadata": {},
   "outputs": [],
   "source": [
    "selected_indices = [7, 2, 5, 1, 29]\n",
    "\n",
    "# Extract elements\n",
    "selected_parameters = [parameters_list[i] for i in selected_indices]\n",
    "\n",
    "# Print or use the selected elements\n",
    "print(selected_parameters)"
   ]
  },
  {
   "cell_type": "markdown",
   "id": "7acc5c99-9bf9-4a0d-a7ec-4fac6e5a95be",
   "metadata": {},
   "source": [
    "# Information Fairness Tradeoff"
   ]
  },
  {
   "cell_type": "code",
   "execution_count": 23,
   "id": "b4fcd363-fedf-4585-b2bd-c219a3d4b860",
   "metadata": {},
   "outputs": [],
   "source": [
    "# Assuming results_df is already in memory\n",
    "# Define the fairness and information measures\n",
    "fairness_measures = [\"MMD\", \"% Delta DP Mean\"]\n",
    "information_measures = [\"% Variance\", \"% Accuracy Mean\", 'F1 Mean']\n",
    "\n",
    "# Define colors and labels\n",
    "colors = [\"#377eb8\"] * 30 + [\"#e41a1c\"] * 3 + [\"#984ea3\", \"#ff7f00\", \"#4daf4a\"]\n",
    "labels = [\"SIRFairRe\"] * 30 + [\"FairPCA\"] * 3 + [\"PCA\", \"SIR(Y1)\", \"-SIR(Y2)\"]"
   ]
  },
  {
   "cell_type": "code",
   "execution_count": null,
   "id": "e0ab5f63-217c-4ade-b65c-4ac27361e4eb",
   "metadata": {},
   "outputs": [],
   "source": [
    "# Create scatter plots\n",
    "for fairness in fairness_measures:\n",
    "    for info in information_measures:\n",
    "        plt.figure(figsize=(8, 6))\n",
    "        \n",
    "        # Plot each point with its assigned color and label\n",
    "        for i in range(len(results_df)):\n",
    "            #marker_style = '*' if i in [7, 2, 5, 1, 29, 30, 31, 32] else 'o'\n",
    "            plt.scatter(results_df[fairness][i], results_df[info][i],\n",
    "             #           marker=marker_style,\n",
    "                        color=colors[i], label=labels[i] if i in [0, 30, 33, 34, 35] else \"_nolegend_\",\n",
    "                       s=200)\n",
    "\n",
    "        # Formatting\n",
    "        plt.xlabel(fairness, fontsize=20)   # Make X label bigger\n",
    "        plt.ylabel(info, fontsize=20)        # Make Y label bigger\n",
    "        plt.xticks(fontsize=16)               # Make X ticks bigger\n",
    "        plt.yticks(fontsize=16)               # Make Y ticks bigger\n",
    "        \n",
    "        # Add a horizontal line at accuracy_mean if the Y-axis represents accuracy\n",
    "        if \"Accuracy\" in info:\n",
    "            plt.axhline(y=accuracy_mean * 100, color=\"red\", linestyle=\"--\", linewidth=2, label=\"Raw Data Accuracy\")\n",
    "        \n",
    "        #plt.title(f\"{info} vs {fairness}\")\n",
    "        plt.legend(fontsize=18)\n",
    "        plt.grid(True)\n",
    "        \n",
    "        # Save the figure\n",
    "        filename = f\"ADULT_scatter_{fairness.replace('% ', '').replace(' ', '_')}_vs_{info.replace('% ', '').replace(' ', '_')}.png\"\n",
    "        plt.savefig(filename, dpi=300, bbox_inches=\"tight\")\n",
    "        \n",
    "        plt.show()\n",
    "        plt.close()"
   ]
  },
  {
   "cell_type": "code",
   "execution_count": null,
   "id": "b91854c7-e9e3-4a9b-a65b-486e411def7f",
   "metadata": {},
   "outputs": [],
   "source": [
    "import matplotlib.lines as mlines\n",
    "\n",
    "# Define your important points\n",
    "special_indices = [1, 3, 29, 30, 31, 32]\n",
    "legend_indices = [0, 30, 33, 34, 35]\n",
    "\n",
    "# Create scatter plots\n",
    "for fairness in fairness_measures:\n",
    "    for info in information_measures:\n",
    "        plt.figure(figsize=(8, 6))\n",
    "        \n",
    "        # Prepare arrays\n",
    "        x = results_df[fairness].values\n",
    "        y = results_df[info].values\n",
    "        colors_to_plot = colors\n",
    "        sizes_to_plot = [600 if i in special_indices else 200 for i in range(len(results_df))]\n",
    "\n",
    "        # Plot all points at once\n",
    "        plt.scatter(x, y,\n",
    "                    c=colors_to_plot,\n",
    "                    s=sizes_to_plot,\n",
    "                    marker='o')\n",
    "        \n",
    "        # Formatting\n",
    "        plt.xlabel(fairness, fontsize=20)\n",
    "        plt.ylabel(info, fontsize=20)\n",
    "        plt.xticks(fontsize=16)\n",
    "        plt.yticks(fontsize=16)\n",
    "        \n",
    "        # Add a horizontal line at accuracy_mean if the Y-axis represents accuracy\n",
    "        if \"Accuracy\" in info:\n",
    "            plt.axhline(y=accuracy_mean * 100, color=\"red\", linestyle=\"--\", linewidth=2, label=\"Raw Data Accuracy\")\n",
    "        \n",
    "        # Manually create the legend with uniform marker sizes\n",
    "        handles = []\n",
    "        for idx in legend_indices:\n",
    "            handle = mlines.Line2D([], [],\n",
    "                                   color=colors[idx],\n",
    "                                   marker='o',\n",
    "                                   linestyle='None',\n",
    "                                   markersize=8,\n",
    "                                   label=labels[idx])\n",
    "            handles.append(handle)\n",
    "\n",
    "        plt.legend(handles=handles, fontsize=18)\n",
    "        plt.grid(True)\n",
    "        \n",
    "        # Save the figure\n",
    "        filename = f\"ADULT_scatter_STARS_{fairness.replace('% ', '').replace(' ', '_')}_vs_{info.replace('% ', '').replace(' ', '_')}.png\"\n",
    "        plt.savefig(filename, dpi=300, bbox_inches=\"tight\")\n",
    "        \n",
    "        plt.show()\n",
    "        plt.close()\n"
   ]
  },
  {
   "cell_type": "markdown",
   "id": "135c20e3-7dec-42a8-b67a-724950e16704",
   "metadata": {
    "tags": []
   },
   "source": [
    "# Individual Metrics Visualized with Heatmaps"
   ]
  },
  {
   "cell_type": "code",
   "execution_count": null,
   "id": "9481e64b-c89c-4ed2-a82e-708f737e05c1",
   "metadata": {},
   "outputs": [],
   "source": [
    "# Load data from the file\n",
    "file_path = \"simulation_results.txt\"  # Update this if needed\n",
    "df = pd.read_csv(file_path, sep=\"\\t\")  # Read the tab-separated values\n",
    "\n",
    "# Define the parameter grid\n",
    "grid_size = (6, 5)  # 8x8 grid\n",
    "alpha_values = sorted(set(param[0] for param in parameters_list))  # Unique alpha values\n",
    "lambda_values = sorted(set(param[1] for param in parameters_list))  # Unique lambda values\n",
    "\n",
    "# Map parameter settings to grid indices\n",
    "param_to_index = {tuple(parameters_list[i]): i for i in range(len(parameters_list))}\n",
    "\n",
    "# Define characteristics to plot\n",
    "characteristics = {\n",
    "    \"MMD\": \"MMD\",\n",
    "    \"% Variance\": \"% Variance\",\n",
    "    \"% Accuracy Mean\": \"% Accuracy Mean\",\n",
    "    \"% Delta DP Mean\": \"% Delta DP Mean\",\n",
    "    \"F1 Mean\": \"F1 Mean\"\n",
    "}\n",
    "\n",
    "# Choose a single-color colormap (e.g., \"Blues\", \"Greens\", \"Reds\", \"Purples\")\n",
    "cmap_color = \"Blues\"  \n",
    "\n",
    "# Create an 8x8 grid for each heatmap\n",
    "for char_name, col_name in characteristics.items():\n",
    "    heatmap_data = np.full(grid_size, np.nan)  # Initialize grid with NaNs for missing values\n",
    "    \n",
    "    # Populate the heatmap matrix based on parameter mappings\n",
    "    for (alpha, lambda_), index in param_to_index.items():\n",
    "        if index in df.index:\n",
    "            i = alpha_values.index(alpha)\n",
    "            j = lambda_values.index(lambda_)\n",
    "            heatmap_data[i, j] = df.at[index, col_name]  # Assign corresponding value\n",
    "    \n",
    "    # Set rounding format\n",
    "    fmt = \".3f\" if char_name == \"MMD\" else \".1f\"\n",
    "\n",
    "    # Plot the heatmap\n",
    "    plt.figure(figsize=(10, 8))\n",
    "    ax = sns.heatmap(heatmap_data, annot=True, fmt=fmt, cmap=cmap_color,\n",
    "                     xticklabels=lambda_values, yticklabels=alpha_values, annot_kws={\"size\": 12})\n",
    "\n",
    "    # Formatting\n",
    "    plt.xlabel(\"Lambda\", fontsize=20)\n",
    "    plt.ylabel(\"Alpha\", fontsize=20)\n",
    "    plt.title(f\"Heatmap of {char_name}\", fontsize=20)\n",
    "    plt.xticks(rotation=45, fontsize=16)\n",
    "    plt.yticks(rotation=0, fontsize=16)\n",
    "\n",
    "    # Save the heatmap as an image file\n",
    "    filename = f\"ADULT_HEATMAP_{char_name.replace('% ', '').replace(' ', '_')}.png\"\n",
    "    plt.savefig(filename, dpi=300, bbox_inches=\"tight\")\n",
    "\n",
    "    # Show plot\n",
    "    plt.show()\n"
   ]
  },
  {
   "cell_type": "code",
   "execution_count": null,
   "id": "a8ae3a37-fe0a-4014-b09a-418f27c971a4",
   "metadata": {},
   "outputs": [],
   "source": [
    "# Load the tab-separated text file into a DataFrame\n",
    "results_df = pd.read_csv(\"simulation_results.txt\", sep=\"\\t\")\n",
    "\n",
    "# Display the first few rows to verify\n",
    "print(results_df.head())"
   ]
  },
  {
   "cell_type": "code",
   "execution_count": null,
   "id": "d6e4b910-d682-47ca-88c0-692712a52e5c",
   "metadata": {},
   "outputs": [],
   "source": [
    "silhouette_scores = []\n",
    "count = 0\n",
    "for factor_loading in factor_loadings:\n",
    "    print(count)\n",
    "    X_reduced = X @ factor_loading\n",
    "    score = silhouette_score(X_reduced, Y)\n",
    "    silhouette_scores.append(score)\n",
    "    count += 1"
   ]
  },
  {
   "cell_type": "code",
   "execution_count": 65,
   "id": "9817469f-c8b4-40ed-ad16-5cc80cd26f95",
   "metadata": {},
   "outputs": [],
   "source": [
    "# Add Silhouette Scores as a new column in results_df\n",
    "results_df[\"Silhouette Score\"] = silhouette_scores"
   ]
  },
  {
   "cell_type": "code",
   "execution_count": null,
   "id": "063fd16a-6290-4795-a7a5-2aca96ec1f50",
   "metadata": {},
   "outputs": [],
   "source": [
    "results_df"
   ]
  },
  {
   "cell_type": "code",
   "execution_count": 66,
   "id": "b6c15ebb-104d-4fbe-ad39-13ad5fbd6d48",
   "metadata": {},
   "outputs": [],
   "source": [
    "best_sirfairre = results_df.iloc[:30].loc[results_df.iloc[:30][results_df.iloc[:30][\"MMD\"] <= 0.1][\"Silhouette Score\"].idxmax()]\n",
    "best_fairpca = results_df.iloc[30:33].loc[results_df.iloc[30:33][results_df.iloc[30:33][\"MMD\"] <= 0.1][\"Silhouette Score\"].idxmax()]"
   ]
  },
  {
   "cell_type": "code",
   "execution_count": null,
   "id": "67e08cf3-219a-48d1-990a-2f35b21e24cd",
   "metadata": {},
   "outputs": [],
   "source": [
    "best_sirfairre"
   ]
  },
  {
   "cell_type": "code",
   "execution_count": null,
   "id": "2ef51fa6-21de-4a8c-81c9-9f3d76891d35",
   "metadata": {},
   "outputs": [],
   "source": [
    "best_fairpca"
   ]
  },
  {
   "cell_type": "markdown",
   "id": "2b6cbce8-f405-4b59-89c0-e47856c3fc0a",
   "metadata": {},
   "source": [
    "# Reduced Dim plots"
   ]
  },
  {
   "cell_type": "code",
   "execution_count": null,
   "id": "75bd09ff-7e4e-4451-aaa8-832ff03425cb",
   "metadata": {},
   "outputs": [],
   "source": [
    "plot_reduced_X(X, factor_loadings[3], Z, \"SIRFairRe\", \"Gender\", \"Female\", \"Male\", caption=\"MMD = 0.076; ΔDP = 4.8%\")\n",
    "plot_reduced_X(X, factor_loadings[3], Y, \"SIRFairRe\", \"Income\", \"<= 50K\", \"> 50K\", caption=\"Var = 5.5%; Acc = 75.2%; SS = 0.057\")"
   ]
  },
  {
   "cell_type": "code",
   "execution_count": null,
   "id": "4111adcb-2b47-481a-8e18-f022edcf28af",
   "metadata": {},
   "outputs": [],
   "source": [
    "plot_reduced_X(X, factor_loadings[31], Z, \"FairPCA\",  \"Gender\", \"Female\", \"Male\", caption=\"MMD = 0.017; ΔDP = 0%\")\n",
    "plot_reduced_X(X, factor_loadings[31], Y, \"FairPCA\", \"Income\", \"<= 50K\", \"> 50K\", caption=\"Var = 4.4%; Acc = 75.2%; SS = 0.0050\")"
   ]
  },
  {
   "cell_type": "code",
   "execution_count": null,
   "id": "ac9e9e66-8b05-491b-8177-3ffe0cd66874",
   "metadata": {},
   "outputs": [],
   "source": [
    "# Define indices for PCA, SIR(Y1), and -SIR(Y2)\n",
    "factor_indices = {\"PCA\": 33, \"SIR(Y1)\": 34, \"-SIR(Y2)\": 35}\n",
    "\n",
    "# Define target variable settings with standardized caption names\n",
    "targets = [\n",
    "    (\"Gender\", \"Female\", \"Male\", \"MMD\", \"% Delta DP Mean\"),  # MMD and ΔDP for Gender\n",
    "    (\"Income\", \"<= 50K\", \"> 50K\", \"% Variance\", \"% Accuracy Mean\", \"% Delta DP Mean\")  # Variance, Accuracy, and ΔDP for Income\n",
    "]\n",
    "\n",
    "# Define standardized caption name replacements\n",
    "caption_renames = {\n",
    "    \"MMD\": \"MMD\",\n",
    "    \"% Variance\": \"Var\",\n",
    "    \"% Accuracy Mean\": \"Acc\",\n",
    "    \"% Delta DP Mean\": \"ΔDP\"\n",
    "}\n",
    "\n",
    "# Generate plots\n",
    "for method_name, idx in factor_indices.items():\n",
    "    for target, group1, group2, *metric_keys in targets:\n",
    "        \n",
    "        # Extract corresponding performance metrics\n",
    "        metrics = results_df.loc[results_df[\"Factor_Loading_Index\"] == idx, metric_keys].values.flatten()\n",
    "\n",
    "        # Format caption dynamically with different rounding for each metric\n",
    "        formatted_metrics = []\n",
    "        for i, key in enumerate(metric_keys):\n",
    "            new_name = caption_renames[key]\n",
    "\n",
    "            if new_name == \"MMD\":  # Round to 3 decimal places\n",
    "                formatted_metrics.append(f\"{new_name} = {metrics[i]:.3f}\")\n",
    "            elif new_name == \"Var\":  # Round to 2 decimal places and add '%'\n",
    "                formatted_metrics.append(f\"{new_name} = {metrics[i]:.2f}%\")\n",
    "            elif new_name in [\"Acc\", \"ΔDP\"]:  # Round to 1 decimal place and add '%'\n",
    "                formatted_metrics.append(f\"{new_name} = {metrics[i]:.1f}%\")\n",
    "            else:  # Default case (shouldn't happen)\n",
    "                formatted_metrics.append(f\"{new_name} = {metrics[i]}\")\n",
    "\n",
    "        caption = \"; \".join(formatted_metrics)\n",
    "\n",
    "        # Generate plot\n",
    "        plot_reduced_X(X, factor_loadings[idx], Z if target == \"Gender\" else Y, method_name, target, group1, group2, caption=caption)\n"
   ]
  },
  {
   "cell_type": "code",
   "execution_count": null,
   "id": "469a196f-a33e-4220-b305-a8dd1da59402",
   "metadata": {},
   "outputs": [],
   "source": [
    "np.unique(Z)"
   ]
  },
  {
   "cell_type": "code",
   "execution_count": null,
   "id": "e17170bb-38fe-4fd2-90ba-688ee9796a05",
   "metadata": {},
   "outputs": [],
   "source": [
    "np.unique(Y)"
   ]
  },
  {
   "cell_type": "markdown",
   "id": "5297d797-d0dd-4aa2-95f6-7526330952ba",
   "metadata": {},
   "source": [
    "# Redo all with d = 10"
   ]
  },
  {
   "cell_type": "markdown",
   "id": "950f553f-9c31-436b-9707-ce29cbe6bb6a",
   "metadata": {},
   "source": [
    "# Compute All Loadings of Interest"
   ]
  },
  {
   "cell_type": "markdown",
   "id": "3b665384-c408-42d7-8939-d5ef1b6da338",
   "metadata": {},
   "source": [
    "## Option 1"
   ]
  },
  {
   "cell_type": "code",
   "execution_count": null,
   "id": "f279c706-6689-4066-bc2c-b0bb43c2d5c7",
   "metadata": {},
   "outputs": [],
   "source": [
    "Vs10 = dict()"
   ]
  },
  {
   "cell_type": "code",
   "execution_count": null,
   "id": "534b2b6e-8167-4d31-951b-7be3277682ef",
   "metadata": {},
   "outputs": [],
   "source": [
    "for setting in parameters_list:\n",
    "    al = tuple(setting)\n",
    "    a, l, = al\n",
    "    V = method1(X, Y, Z, 10, a, l)\n",
    "    Vs10[al] = V"
   ]
  },
  {
   "cell_type": "code",
   "execution_count": null,
   "id": "0d9ca74b-e4f8-4178-8e31-4862fe0bc602",
   "metadata": {},
   "outputs": [],
   "source": [
    "len(Vs)"
   ]
  },
  {
   "cell_type": "markdown",
   "id": "ca534271-b57b-452d-b4b3-e2732d4c8841",
   "metadata": {
    "tags": []
   },
   "source": [
    "## PCA"
   ]
  },
  {
   "cell_type": "code",
   "execution_count": null,
   "id": "82d4adab-d3b9-471b-a360-5a4788aaaaf6",
   "metadata": {},
   "outputs": [],
   "source": [
    "Sigma = np.cov(X, rowvar=False)"
   ]
  },
  {
   "cell_type": "code",
   "execution_count": null,
   "id": "4f576b4c-e0b5-4185-ac19-436834578dd4",
   "metadata": {},
   "outputs": [],
   "source": [
    "eigenvalues, eigenvectors = eigh(Sigma)"
   ]
  },
  {
   "cell_type": "code",
   "execution_count": null,
   "id": "90cde793-c800-461f-8363-e3eb9f7062ec",
   "metadata": {},
   "outputs": [],
   "source": [
    "V_PCA = eigenvectors[:, -10:]"
   ]
  },
  {
   "cell_type": "markdown",
   "id": "9ad2feaa-02e0-49ed-9501-5f6f68ab82c9",
   "metadata": {
    "tags": []
   },
   "source": [
    "## SIR(Y1)"
   ]
  },
  {
   "cell_type": "code",
   "execution_count": null,
   "id": "ee5b0bf1-6990-461e-8c6e-4d6875b7cfce",
   "metadata": {},
   "outputs": [],
   "source": [
    "V_SIRY1 = SIR(X, Y, 10)"
   ]
  },
  {
   "cell_type": "markdown",
   "id": "48472768-37dc-4972-b9d1-31e9f2232be3",
   "metadata": {
    "tags": []
   },
   "source": [
    "## -SIR(Y2)"
   ]
  },
  {
   "cell_type": "code",
   "execution_count": null,
   "id": "17565c7b-febb-4158-b6b8-98ebfb16de21",
   "metadata": {},
   "outputs": [],
   "source": [
    "V_negSIRY2 = method1(X, Y, Z, 10, 0, 0)"
   ]
  },
  {
   "cell_type": "markdown",
   "id": "75bf40d5-adbe-43d0-b243-94a1d41d3413",
   "metadata": {},
   "source": [
    "## FairPCA"
   ]
  },
  {
   "cell_type": "code",
   "execution_count": null,
   "id": "a5de7d05-ec5a-49a5-afbb-acabe110239e",
   "metadata": {},
   "outputs": [],
   "source": [
    "Vs_fair = dict()"
   ]
  },
  {
   "cell_type": "code",
   "execution_count": null,
   "id": "ddd15ecc-de64-411f-bf2b-f006b840ec64",
   "metadata": {},
   "outputs": [],
   "source": [
    "ms = [1, 15, 50]"
   ]
  },
  {
   "cell_type": "code",
   "execution_count": null,
   "id": "93321576-ea1f-41bf-ac83-92edd6a19705",
   "metadata": {},
   "outputs": [],
   "source": [
    "for m in ms:\n",
    "    V = fairPCA(X, Z, 10, m)\n",
    "    Vs_fair[m] = V"
   ]
  },
  {
   "cell_type": "code",
   "execution_count": null,
   "id": "82d994f6-6f0a-4171-a3cd-e9817603b425",
   "metadata": {},
   "outputs": [],
   "source": [
    "len(ms)"
   ]
  },
  {
   "cell_type": "markdown",
   "id": "6fa2c3d9-01a3-4a88-b15d-f0c04653e0dc",
   "metadata": {
    "tags": []
   },
   "source": [
    "# Perform Data Splits"
   ]
  },
  {
   "cell_type": "code",
   "execution_count": null,
   "id": "f5a4f801-2c0f-4e8a-8c64-6b14f4c5036c",
   "metadata": {},
   "outputs": [],
   "source": [
    "factor_loadings10 = list(Vs10.values()) + list(Vs_fair.values())\n",
    "factor_loadings10.append(V_PCA)\n",
    "factor_loadings10.append(V_SIRY1)\n",
    "factor_loadings10.append(V_negSIRY2)"
   ]
  },
  {
   "cell_type": "code",
   "execution_count": null,
   "id": "e523c02b-030c-4b0a-a0d5-d57fc50e63ce",
   "metadata": {},
   "outputs": [],
   "source": [
    "sample_frac = 0.1\n",
    "C = 1\n",
    "gamma = \"scale\"\n",
    "kernel = \"linear\"\n",
    "cv = 5\n",
    "splits = get_splits(X, Y, cv=cv)"
   ]
  },
  {
   "cell_type": "code",
   "execution_count": null,
   "id": "fd578fda-b99b-4167-8316-42f9f83a952a",
   "metadata": {},
   "outputs": [],
   "source": [
    "from tqdm import tqdm\n",
    "from joblib import Parallel, delayed\n",
    "\n",
    "# Wrap `enumerate(factor_loadings)` with `list()` so `tqdm` can track progress\n",
    "results = Parallel(n_jobs=-1, verbose=10)(\n",
    "    delayed(process_factor_loading)(V, i, X, Y, Z, sample_frac, kernel, C, gamma, cv, splits) \n",
    "    for i, V in tqdm(list(enumerate(factor_loadings)), total=len(factor_loadings))\n",
    ")\n",
    "\n",
    "# Convert list of results to a DataFrame\n",
    "results_df = pd.DataFrame(results)\n",
    "\n",
    "# Save as a tab-separated text file\n",
    "results_df.to_csv(\"simulation_results_d=10.txt\", sep=\"\\t\", index=False)"
   ]
  },
  {
   "cell_type": "code",
   "execution_count": 39,
   "id": "4420e519-44b8-4570-beba-0d1ab0a869d2",
   "metadata": {},
   "outputs": [],
   "source": [
    "# Load the results from the saved file\n",
    "results_df = pd.read_csv(\"simulation_results_d=10.txt\", sep=\"\\t\")"
   ]
  },
  {
   "cell_type": "markdown",
   "id": "b50ffb9a-5ac2-48d4-8d7a-03402f06f9bc",
   "metadata": {},
   "source": [
    "# Information Fairness Tradeoff"
   ]
  },
  {
   "cell_type": "code",
   "execution_count": 40,
   "id": "a9609372-33b8-4547-a40e-c0c6f73be960",
   "metadata": {},
   "outputs": [],
   "source": [
    "# Assuming results_df is already in memory\n",
    "# Define the fairness and information measures\n",
    "fairness_measures = [\"MMD\", \"% Delta DP Mean\"]\n",
    "information_measures = [\"% Variance\", \"% Accuracy Mean\"]\n",
    "\n",
    "# Define colors and labels\n",
    "colors = [\"blue\"] * 30 + [\"red\"] * 3 + [\"yellow\", \"orange\", \"green\"]\n",
    "labels = [\"SIRFairRe\"] * 30 + [\"FairPCA\"] * 3 + [\"PCA\", \"SIR(Y1)\", \"-SIR(Y2)\"]"
   ]
  },
  {
   "cell_type": "code",
   "execution_count": null,
   "id": "4f1bbab3-8a6c-42e8-8fa6-2796374a3204",
   "metadata": {},
   "outputs": [],
   "source": [
    "# Create scatter plots\n",
    "for fairness in fairness_measures:\n",
    "    for info in information_measures:\n",
    "        plt.figure(figsize=(8, 6))\n",
    "        \n",
    "        # Plot each point with its assigned color and label\n",
    "        for i in range(len(results_df)):\n",
    "            plt.scatter(results_df[fairness][i], results_df[info][i],\n",
    "                        color=colors[i], label=labels[i] if i in [0, 30, 33, 34, 35] else \"_nolegend_\")\n",
    "\n",
    "        # Formatting\n",
    "        plt.xlabel(fairness, fontsize=20)   # Make X label bigger\n",
    "        plt.ylabel(info, fontsize=20)        # Make Y label bigger\n",
    "        plt.xticks(fontsize=16)               # Make X ticks bigger\n",
    "        plt.yticks(fontsize=16)               # Make Y ticks bigger\n",
    "        \n",
    "        # Add a horizontal line at accuracy_mean if the Y-axis represents accuracy\n",
    "        if \"Accuracy\" in info:\n",
    "            plt.axhline(y=accuracy_mean * 100, color=\"red\", linestyle=\"--\", linewidth=2, label=\"Raw Data Accuracy\")\n",
    "        \n",
    "        #plt.title(f\"{info} vs {fairness}\")\n",
    "        plt.legend(fontsize=18)\n",
    "        plt.grid(True)\n",
    "        \n",
    "        # Save the figure\n",
    "        filename = f\"ADULT_scatter_d=10_{fairness.replace('% ', '').replace(' ', '_')}_vs_{info.replace('% ', '').replace(' ', '_')}.png\"\n",
    "        plt.savefig(filename, dpi=300, bbox_inches=\"tight\")\n",
    "        \n",
    "        plt.show()\n",
    "        plt.close()"
   ]
  },
  {
   "cell_type": "markdown",
   "id": "f094929b-aa2b-4abf-9d71-f3754c2da752",
   "metadata": {
    "tags": []
   },
   "source": [
    "# Individual Metrics Visualized with Heatmaps"
   ]
  },
  {
   "cell_type": "code",
   "execution_count": null,
   "id": "fca39587-bf8d-4546-a90f-3c9f54744f55",
   "metadata": {},
   "outputs": [],
   "source": [
    "# Load data from the file\n",
    "file_path = \"simulation_results_d=10.txt\"  # Update this if needed\n",
    "df = pd.read_csv(file_path, sep=\"\\t\")  # Read the tab-separated values\n",
    "\n",
    "# Define the parameter grid\n",
    "grid_size = (6, 5)  # 8x8 grid\n",
    "alpha_values = sorted(set(param[0] for param in parameters_list))  # Unique alpha values\n",
    "lambda_values = sorted(set(param[1] for param in parameters_list))  # Unique lambda values\n",
    "\n",
    "# Map parameter settings to grid indices\n",
    "param_to_index = {tuple(parameters_list[i]): i for i in range(len(parameters_list))}\n",
    "\n",
    "# Define characteristics to plot\n",
    "characteristics = {\n",
    "    \"MMD\": \"MMD\",\n",
    "    \"% Variance\": \"% Variance\",\n",
    "    \"% Accuracy Mean\": \"% Accuracy Mean\",\n",
    "    \"% Delta DP Mean\": \"% Delta DP Mean\",\n",
    "     \"F1 Mean\": \"F1 Mean\"\n",
    "}\n",
    "\n",
    "# Choose a single-color colormap (e.g., \"Blues\", \"Greens\", \"Reds\", \"Purples\")\n",
    "cmap_color = \"Blues\"  \n",
    "\n",
    "# Create an 8x8 grid for each heatmap\n",
    "for char_name, col_name in characteristics.items():\n",
    "    heatmap_data = np.full(grid_size, np.nan)  # Initialize grid with NaNs for missing values\n",
    "    \n",
    "    # Populate the heatmap matrix based on parameter mappings\n",
    "    for (alpha, lambda_), index in param_to_index.items():\n",
    "        if index in df.index:\n",
    "            i = alpha_values.index(alpha)\n",
    "            j = lambda_values.index(lambda_)\n",
    "            heatmap_data[i, j] = df.at[index, col_name]  # Assign corresponding value\n",
    "    \n",
    "    # Set rounding format\n",
    "    fmt = \".3f\" if char_name == \"MMD\" else \".1f\"\n",
    "\n",
    "    # Plot the heatmap\n",
    "    plt.figure(figsize=(10, 8))\n",
    "    ax = sns.heatmap(heatmap_data, annot=True, fmt=fmt, cmap=cmap_color,\n",
    "                     xticklabels=lambda_values, yticklabels=alpha_values)\n",
    "\n",
    "    # Formatting\n",
    "    plt.xlabel(\"Lambda\")\n",
    "    plt.ylabel(\"Alpha\")\n",
    "    plt.title(f\"Heatmap of {char_name}\")\n",
    "    plt.xticks(rotation=45)\n",
    "    plt.yticks(rotation=0)\n",
    "\n",
    "    # Save the heatmap as an image file\n",
    "    filename = f\"ADULT_HEATMAP_d=10_{char_name.replace('% ', '').replace(' ', '_')}.png\"\n",
    "    plt.savefig(filename, dpi=300, bbox_inches=\"tight\")\n",
    "\n",
    "    # Show plot\n",
    "    plt.show()\n"
   ]
  },
  {
   "cell_type": "code",
   "execution_count": null,
   "id": "a611e2f2-61d9-44a0-9469-576479b3afd4",
   "metadata": {},
   "outputs": [],
   "source": [
    "# Load the tab-separated text file into a DataFrame\n",
    "results_df = pd.read_csv(\"simulation_results_d=10.txt\", sep=\"\\t\")\n",
    "\n",
    "# Display the first few rows to verify\n",
    "print(results_df.head())"
   ]
  },
  {
   "cell_type": "code",
   "execution_count": null,
   "id": "6c0ae0e6-486e-4271-93ec-413391bd450a",
   "metadata": {},
   "outputs": [],
   "source": [
    "silhouette_scores = []\n",
    "count = 0\n",
    "for factor_loading in factor_loadings:\n",
    "    print(count)\n",
    "    X_reduced = X @ factor_loading\n",
    "    score = silhouette_score(X_reduced, Y)\n",
    "    silhouette_scores.append(score)\n",
    "    count += 1"
   ]
  },
  {
   "cell_type": "code",
   "execution_count": null,
   "id": "e3a746ca-58e8-4129-873b-a2d7d0693eda",
   "metadata": {},
   "outputs": [],
   "source": [
    "# Add Silhouette Scores as a new column in results_df\n",
    "results_df[\"Silhouette Score\"] = silhouette_scores"
   ]
  },
  {
   "cell_type": "code",
   "execution_count": null,
   "id": "c8286811-274b-4496-87e3-01652f2e9c1c",
   "metadata": {},
   "outputs": [],
   "source": [
    "best_sirfairre = results_df.iloc[:30].loc[results_df.iloc[:30][results_df.iloc[:30][\"MMD\"] <= 0.1][\"Silhouette Score\"].idxmax()]\n",
    "best_fairpca = results_df.iloc[30:33].loc[results_df.iloc[30:33][results_df.iloc[30:33][\"MMD\"] <= 0.1][\"Silhouette Score\"].idxmax()]"
   ]
  },
  {
   "cell_type": "code",
   "execution_count": null,
   "id": "b0f95ff0-9d65-481f-90d8-3cd8cec3ee43",
   "metadata": {},
   "outputs": [],
   "source": [
    "best_sirfairre"
   ]
  },
  {
   "cell_type": "code",
   "execution_count": null,
   "id": "cfaefede-5eda-41a3-b751-0cb2c358d95b",
   "metadata": {},
   "outputs": [],
   "source": [
    "best_fairpca"
   ]
  },
  {
   "cell_type": "code",
   "execution_count": null,
   "id": "4034fa35-8d45-4ddc-9ca4-d318995a785e",
   "metadata": {},
   "outputs": [],
   "source": []
  },
  {
   "cell_type": "code",
   "execution_count": null,
   "id": "39837e2b-b0e4-45da-962c-2730f8af94ed",
   "metadata": {},
   "outputs": [],
   "source": []
  }
 ],
 "metadata": {
  "kernelspec": {
   "display_name": "Python 3 (ipykernel)",
   "language": "python",
   "name": "python3"
  },
  "language_info": {
   "codemirror_mode": {
    "name": "ipython",
    "version": 3
   },
   "file_extension": ".py",
   "mimetype": "text/x-python",
   "name": "python",
   "nbconvert_exporter": "python",
   "pygments_lexer": "ipython3",
   "version": "3.10.9"
  }
 },
 "nbformat": 4,
 "nbformat_minor": 5
}
